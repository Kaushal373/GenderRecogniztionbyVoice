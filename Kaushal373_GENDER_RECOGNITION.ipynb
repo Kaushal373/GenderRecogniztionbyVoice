{
 "cells": [
  {
   "cell_type": "markdown",
   "metadata": {},
   "source": [
    "<center> <b> <u> <h1> KPP Communications </h1> </u> </b> </center>\n",
    "\n",
    "<b> Company Introduction :</b> Your client for this project is a Telecom company.\n",
    "\n",
    "They are a leading telecom company with 5 million users.They want to keep track of the number of male and female users but as the user count increases the task becomes more tedious.<br>\n",
    "They want to automate the process of keeping track of male and female users using their voice.<br>\n",
    "Their research and development teams are trying to understand the acoustic properties of the voice and speech so that they can use it to enhance the customer experience in their new product.<br>\n",
    "\n",
    "<b>Current Scenario </b>\n",
    "Determining a person’s gender as male or female, based upon a sample of their voice, initially seems to be an easy task.<br>\n",
    "Often, the human ear can easily detect the difference between a male or a female voice within the first few spoken words.\n",
    "However, designing a computer program to do this turns out to be a bit trickier.\n",
    "Currently, the company is keeping track by manually entering the data for the user being male or female by listening to their voice which is a tedious task for the employees."
   ]
  },
  {
   "cell_type": "markdown",
   "metadata": {},
   "source": [
    "<b><h1>Problem Statement:</h1></b>\n",
    "\n",
    "The current process suffers from the following problems:\n",
    "\n",
    "The current process is a manual classification of gender using their voice.\n",
    "This is very tedious and time-consuming as it needs to be repeated every time a new customer joins.\n",
    "\n",
    "The company has hired you as a data science consultant.\n",
    "\n",
    "They want to automate the process of predicting the male or female voice using acoustic properties of the voice or speech rather than doing this manual work.\n",
    "\n"
   ]
  },
  {
   "cell_type": "markdown",
   "metadata": {},
   "source": [
    "# Dataset Description"
   ]
  },
  {
   "cell_type": "markdown",
   "metadata": {},
   "source": [
    "<table>\t<th>\tColumn Name\t</th>\t<th>\tDescription\t</th>\t\n",
    "<tr>\t<td>\tId\t</td>\t<td>\tUnique Id\t</td>\t</tr>\n",
    "<tr>\t<td>\tmeanfreq\t</td>\t<td>\tMean frequency (in kHz) for the voice sample\t</td>\t</tr>\n",
    "<tr>\t<td>\tsd\t</td>\t<td>\tStandard deviation of the frequency\t</td>\t</tr>\n",
    "<tr>\t<td>\tmedian\t</td>\t<td>\tMedian frequency (in kHz) for the voice sample\t</td>\t</tr>\n",
    "<tr>\t<td>\tQ25\t</td>\t<td>\tFirst quantile (in kHz)\t</td>\t</tr>\n",
    "<tr>\t<td>\tQ75\t</td>\t<td>\tThird quantile (in kHz)\t</td>\t</tr>\n",
    "<tr>\t<td>\tIQR\t</td>\t<td>\tInterquartile range (in kHz)\t</td>\t</tr>\n",
    "<tr>\t<td>\tskew\t</td>\t<td>\tSkewness of the voice sample\t</td>\t</tr>\n",
    "<tr>\t<td>\tkurt\t</td>\t<td>\tKurtosis of the voice sample\t</td>\t</tr>\n",
    "<tr>\t<td>\tsp.ent\t</td>\t<td>\tSpectral entropy\t</td>\t</tr>\n",
    "<tr>\t<td>\tsfm\t</td>\t<td>\tSpectral flatness of the voice sample\t</td>\t</tr>\n",
    "<tr>\t<td>\tmode\t</td>\t<td>\tMode frequency\t</td>\t</tr>\n",
    "<tr>\t<td>\tcentroid\t</td>\t<td>\tFrequency centroid\t</td>\t</tr>\n",
    "<tr>\t<td>\tpeakf\t</td>\t<td>\tPeak frequency (the frequency with the highest energy)\t</td>\t</tr>\n",
    "<tr>\t<td>\tmeanfun\t</td>\t<td>\tAverage of fundamental frequency measured across the acoustic signal\t</td>\t</tr>\n",
    "<tr>\t<td>\tminfun\t</td>\t<td>\tMinimum fundamental frequency measured across the acoustic signal\t</td>\t</tr>\n",
    "<tr>\t<td>\tmaxfun\t</td>\t<td>\tMaximum fundamental frequency measured across the acoustic signal\t</td>\t</tr>\n",
    "<tr>\t<td>\tmeandom\t</td>\t<td>\tAverage of dominant frequency measured across the acoustic signal\t</td>\t</tr>\n",
    "<tr>\t<td>\tmindom\t</td>\t<td>\tMinimum of dominant frequency measured across the acoustic signal\t</td>\t</tr>\n",
    "<tr>\t<td>\tmaxdom\t</td>\t<td>\tMaximum of dominant frequency measured across the acoustic signal\t</td>\t</tr>\n",
    "<tr>\t<td>\tdfrange\t</td>\t<td>\tRange of dominant frequency measured across the acoustic signal\t</td>\t</tr>\n",
    "<tr>\t<td>\tmodindx\t</td>\t<td>\tModulation index. Calculated as the accumulated absolute difference between adjacent Measurements of fundamental frequencies divided by the frequency range\t</td>\t</tr>\n",
    "<tr>\t<td>\tlabel\t</td>\t<td>\tThe label for the voice sample (male or female)\t</td>\t</tr>\n",
    "</table>\t\t\t\t\t\t\t\n"
   ]
  },
  {
   "cell_type": "code",
   "execution_count": 1,
   "metadata": {},
   "outputs": [],
   "source": [
    "#Importing Important Libraries\n",
    "import pandas as pd\n",
    "import numpy as np\n",
    "import matplotlib.pyplot as plt\n",
    "%matplotlib inline\n",
    "import seaborn as sns\n",
    "import warnings\n",
    "warnings.filterwarnings('ignore')\n",
    "from pandas_profiling import profile_report"
   ]
  },
  {
   "cell_type": "code",
   "execution_count": 45,
   "metadata": {},
   "outputs": [],
   "source": [
    "from sklearn.model_selection import train_test_split\n",
    "from sklearn.feature_selection import SelectFromModel\n",
    "from sklearn.preprocessing import StandardScaler,RobustScaler\n",
    "from sklearn.metrics import classification_report,confusion_matrix,f1_score,accuracy_score\n",
    "from sklearn.linear_model import LogisticRegression\n",
    "from sklearn.tree import DecisionTreeClassifier\n",
    "from sklearn.ensemble import RandomForestClassifier\n",
    "from sklearn.naive_bayes import GaussianNB"
   ]
  },
  {
   "cell_type": "code",
   "execution_count": 18,
   "metadata": {},
   "outputs": [
    {
     "name": "stdout",
     "output_type": "stream",
     "text": [
      "(2851, 22)\n"
     ]
    },
    {
     "data": {
      "text/html": [
       "<div>\n",
       "<style scoped>\n",
       "    .dataframe tbody tr th:only-of-type {\n",
       "        vertical-align: middle;\n",
       "    }\n",
       "\n",
       "    .dataframe tbody tr th {\n",
       "        vertical-align: top;\n",
       "    }\n",
       "\n",
       "    .dataframe thead th {\n",
       "        text-align: right;\n",
       "    }\n",
       "</style>\n",
       "<table border=\"1\" class=\"dataframe\">\n",
       "  <thead>\n",
       "    <tr style=\"text-align: right;\">\n",
       "      <th></th>\n",
       "      <th>Id</th>\n",
       "      <th>meanfreq</th>\n",
       "      <th>sd</th>\n",
       "      <th>median</th>\n",
       "      <th>Q25</th>\n",
       "      <th>Q75</th>\n",
       "      <th>IQR</th>\n",
       "      <th>skew</th>\n",
       "      <th>kurt</th>\n",
       "      <th>sp.ent</th>\n",
       "      <th>...</th>\n",
       "      <th>centroid</th>\n",
       "      <th>meanfun</th>\n",
       "      <th>minfun</th>\n",
       "      <th>maxfun</th>\n",
       "      <th>meandom</th>\n",
       "      <th>mindom</th>\n",
       "      <th>maxdom</th>\n",
       "      <th>dfrange</th>\n",
       "      <th>modindx</th>\n",
       "      <th>label</th>\n",
       "    </tr>\n",
       "  </thead>\n",
       "  <tbody>\n",
       "    <tr>\n",
       "      <th>0</th>\n",
       "      <td>765</td>\n",
       "      <td>0.162337</td>\n",
       "      <td>0.058206</td>\n",
       "      <td>0.174065</td>\n",
       "      <td>0.100225</td>\n",
       "      <td>0.196512</td>\n",
       "      <td>0.096287</td>\n",
       "      <td>2.127226</td>\n",
       "      <td>7.815129</td>\n",
       "      <td>0.921533</td>\n",
       "      <td>...</td>\n",
       "      <td>0.162337</td>\n",
       "      <td>0.095852</td>\n",
       "      <td>0.016754</td>\n",
       "      <td>0.235294</td>\n",
       "      <td>0.406033</td>\n",
       "      <td>0.046875</td>\n",
       "      <td>3.484375</td>\n",
       "      <td>3.437500</td>\n",
       "      <td>0.155348</td>\n",
       "      <td>male</td>\n",
       "    </tr>\n",
       "    <tr>\n",
       "      <th>1</th>\n",
       "      <td>3071</td>\n",
       "      <td>0.161653</td>\n",
       "      <td>0.057435</td>\n",
       "      <td>0.170138</td>\n",
       "      <td>0.157522</td>\n",
       "      <td>0.182929</td>\n",
       "      <td>0.025407</td>\n",
       "      <td>6.968850</td>\n",
       "      <td>60.968047</td>\n",
       "      <td>0.870409</td>\n",
       "      <td>...</td>\n",
       "      <td>0.161653</td>\n",
       "      <td>0.163486</td>\n",
       "      <td>0.015601</td>\n",
       "      <td>0.204082</td>\n",
       "      <td>0.595161</td>\n",
       "      <td>0.170898</td>\n",
       "      <td>3.979492</td>\n",
       "      <td>3.808594</td>\n",
       "      <td>0.209073</td>\n",
       "      <td>female</td>\n",
       "    </tr>\n",
       "    <tr>\n",
       "      <th>2</th>\n",
       "      <td>1546</td>\n",
       "      <td>0.165290</td>\n",
       "      <td>0.061891</td>\n",
       "      <td>0.135071</td>\n",
       "      <td>0.118468</td>\n",
       "      <td>0.225176</td>\n",
       "      <td>0.106708</td>\n",
       "      <td>2.631865</td>\n",
       "      <td>12.629116</td>\n",
       "      <td>0.918897</td>\n",
       "      <td>...</td>\n",
       "      <td>0.165290</td>\n",
       "      <td>0.120050</td>\n",
       "      <td>0.035088</td>\n",
       "      <td>0.222222</td>\n",
       "      <td>0.458577</td>\n",
       "      <td>0.087891</td>\n",
       "      <td>1.015625</td>\n",
       "      <td>0.927734</td>\n",
       "      <td>0.459834</td>\n",
       "      <td>male</td>\n",
       "    </tr>\n",
       "    <tr>\n",
       "      <th>3</th>\n",
       "      <td>410</td>\n",
       "      <td>0.188100</td>\n",
       "      <td>0.055735</td>\n",
       "      <td>0.206028</td>\n",
       "      <td>0.130493</td>\n",
       "      <td>0.229470</td>\n",
       "      <td>0.098977</td>\n",
       "      <td>1.538406</td>\n",
       "      <td>5.145753</td>\n",
       "      <td>0.914325</td>\n",
       "      <td>...</td>\n",
       "      <td>0.188100</td>\n",
       "      <td>0.108470</td>\n",
       "      <td>0.021305</td>\n",
       "      <td>0.145455</td>\n",
       "      <td>0.493229</td>\n",
       "      <td>0.125000</td>\n",
       "      <td>4.734375</td>\n",
       "      <td>4.609375</td>\n",
       "      <td>0.105202</td>\n",
       "      <td>male</td>\n",
       "    </tr>\n",
       "    <tr>\n",
       "      <th>4</th>\n",
       "      <td>2689</td>\n",
       "      <td>0.187497</td>\n",
       "      <td>0.044226</td>\n",
       "      <td>0.190071</td>\n",
       "      <td>0.156800</td>\n",
       "      <td>0.215435</td>\n",
       "      <td>0.058635</td>\n",
       "      <td>1.653083</td>\n",
       "      <td>5.839465</td>\n",
       "      <td>0.907477</td>\n",
       "      <td>...</td>\n",
       "      <td>0.187497</td>\n",
       "      <td>0.154529</td>\n",
       "      <td>0.048338</td>\n",
       "      <td>0.279070</td>\n",
       "      <td>1.113502</td>\n",
       "      <td>0.023438</td>\n",
       "      <td>8.765625</td>\n",
       "      <td>8.742188</td>\n",
       "      <td>0.103095</td>\n",
       "      <td>female</td>\n",
       "    </tr>\n",
       "  </tbody>\n",
       "</table>\n",
       "<p>5 rows × 22 columns</p>\n",
       "</div>"
      ],
      "text/plain": [
       "     Id  meanfreq        sd    median       Q25       Q75       IQR      skew  \\\n",
       "0   765  0.162337  0.058206  0.174065  0.100225  0.196512  0.096287  2.127226   \n",
       "1  3071  0.161653  0.057435  0.170138  0.157522  0.182929  0.025407  6.968850   \n",
       "2  1546  0.165290  0.061891  0.135071  0.118468  0.225176  0.106708  2.631865   \n",
       "3   410  0.188100  0.055735  0.206028  0.130493  0.229470  0.098977  1.538406   \n",
       "4  2689  0.187497  0.044226  0.190071  0.156800  0.215435  0.058635  1.653083   \n",
       "\n",
       "        kurt    sp.ent  ...  centroid   meanfun    minfun    maxfun   meandom  \\\n",
       "0   7.815129  0.921533  ...  0.162337  0.095852  0.016754  0.235294  0.406033   \n",
       "1  60.968047  0.870409  ...  0.161653  0.163486  0.015601  0.204082  0.595161   \n",
       "2  12.629116  0.918897  ...  0.165290  0.120050  0.035088  0.222222  0.458577   \n",
       "3   5.145753  0.914325  ...  0.188100  0.108470  0.021305  0.145455  0.493229   \n",
       "4   5.839465  0.907477  ...  0.187497  0.154529  0.048338  0.279070  1.113502   \n",
       "\n",
       "     mindom    maxdom   dfrange   modindx   label  \n",
       "0  0.046875  3.484375  3.437500  0.155348    male  \n",
       "1  0.170898  3.979492  3.808594  0.209073  female  \n",
       "2  0.087891  1.015625  0.927734  0.459834    male  \n",
       "3  0.125000  4.734375  4.609375  0.105202    male  \n",
       "4  0.023438  8.765625  8.742188  0.103095  female  \n",
       "\n",
       "[5 rows x 22 columns]"
      ]
     },
     "execution_count": 18,
     "metadata": {},
     "output_type": "execute_result"
    }
   ],
   "source": [
    "train_data = pd.read_csv('voice_train.csv')\n",
    "print(train_data.shape)\n",
    "train_data.head()"
   ]
  },
  {
   "cell_type": "code",
   "execution_count": 11,
   "metadata": {},
   "outputs": [
    {
     "name": "stdout",
     "output_type": "stream",
     "text": [
      "(317, 21)\n"
     ]
    },
    {
     "data": {
      "text/html": [
       "<div>\n",
       "<style scoped>\n",
       "    .dataframe tbody tr th:only-of-type {\n",
       "        vertical-align: middle;\n",
       "    }\n",
       "\n",
       "    .dataframe tbody tr th {\n",
       "        vertical-align: top;\n",
       "    }\n",
       "\n",
       "    .dataframe thead th {\n",
       "        text-align: right;\n",
       "    }\n",
       "</style>\n",
       "<table border=\"1\" class=\"dataframe\">\n",
       "  <thead>\n",
       "    <tr style=\"text-align: right;\">\n",
       "      <th></th>\n",
       "      <th>Id</th>\n",
       "      <th>meanfreq</th>\n",
       "      <th>sd</th>\n",
       "      <th>median</th>\n",
       "      <th>Q25</th>\n",
       "      <th>Q75</th>\n",
       "      <th>IQR</th>\n",
       "      <th>skew</th>\n",
       "      <th>kurt</th>\n",
       "      <th>sp.ent</th>\n",
       "      <th>...</th>\n",
       "      <th>mode</th>\n",
       "      <th>centroid</th>\n",
       "      <th>meanfun</th>\n",
       "      <th>minfun</th>\n",
       "      <th>maxfun</th>\n",
       "      <th>meandom</th>\n",
       "      <th>mindom</th>\n",
       "      <th>maxdom</th>\n",
       "      <th>dfrange</th>\n",
       "      <th>modindx</th>\n",
       "    </tr>\n",
       "  </thead>\n",
       "  <tbody>\n",
       "    <tr>\n",
       "      <th>0</th>\n",
       "      <td>2148</td>\n",
       "      <td>0.186833</td>\n",
       "      <td>0.027472</td>\n",
       "      <td>0.184325</td>\n",
       "      <td>0.173955</td>\n",
       "      <td>0.204731</td>\n",
       "      <td>0.030777</td>\n",
       "      <td>2.655225</td>\n",
       "      <td>10.565846</td>\n",
       "      <td>0.821812</td>\n",
       "      <td>...</td>\n",
       "      <td>0.180645</td>\n",
       "      <td>0.186833</td>\n",
       "      <td>0.172790</td>\n",
       "      <td>0.023495</td>\n",
       "      <td>0.271186</td>\n",
       "      <td>0.178571</td>\n",
       "      <td>0.007812</td>\n",
       "      <td>0.226562</td>\n",
       "      <td>0.218750</td>\n",
       "      <td>0.108929</td>\n",
       "    </tr>\n",
       "    <tr>\n",
       "      <th>1</th>\n",
       "      <td>1124</td>\n",
       "      <td>0.188879</td>\n",
       "      <td>0.060316</td>\n",
       "      <td>0.195537</td>\n",
       "      <td>0.138072</td>\n",
       "      <td>0.242975</td>\n",
       "      <td>0.104904</td>\n",
       "      <td>1.497393</td>\n",
       "      <td>5.037085</td>\n",
       "      <td>0.909425</td>\n",
       "      <td>...</td>\n",
       "      <td>0.140386</td>\n",
       "      <td>0.188879</td>\n",
       "      <td>0.133092</td>\n",
       "      <td>0.050847</td>\n",
       "      <td>0.272727</td>\n",
       "      <td>0.855938</td>\n",
       "      <td>0.023438</td>\n",
       "      <td>8.718750</td>\n",
       "      <td>8.695312</td>\n",
       "      <td>0.098712</td>\n",
       "    </tr>\n",
       "    <tr>\n",
       "      <th>2</th>\n",
       "      <td>170</td>\n",
       "      <td>0.150705</td>\n",
       "      <td>0.087127</td>\n",
       "      <td>0.174299</td>\n",
       "      <td>0.069666</td>\n",
       "      <td>0.226082</td>\n",
       "      <td>0.156416</td>\n",
       "      <td>2.603951</td>\n",
       "      <td>22.328899</td>\n",
       "      <td>0.969287</td>\n",
       "      <td>...</td>\n",
       "      <td>0.050181</td>\n",
       "      <td>0.150705</td>\n",
       "      <td>0.109992</td>\n",
       "      <td>0.017260</td>\n",
       "      <td>0.266667</td>\n",
       "      <td>1.240954</td>\n",
       "      <td>0.007812</td>\n",
       "      <td>5.562500</td>\n",
       "      <td>5.554688</td>\n",
       "      <td>0.332396</td>\n",
       "    </tr>\n",
       "    <tr>\n",
       "      <th>3</th>\n",
       "      <td>3158</td>\n",
       "      <td>0.183667</td>\n",
       "      <td>0.040607</td>\n",
       "      <td>0.182534</td>\n",
       "      <td>0.156480</td>\n",
       "      <td>0.207646</td>\n",
       "      <td>0.051166</td>\n",
       "      <td>2.054138</td>\n",
       "      <td>7.483019</td>\n",
       "      <td>0.898138</td>\n",
       "      <td>...</td>\n",
       "      <td>0.177040</td>\n",
       "      <td>0.183667</td>\n",
       "      <td>0.149237</td>\n",
       "      <td>0.018648</td>\n",
       "      <td>0.262295</td>\n",
       "      <td>0.550312</td>\n",
       "      <td>0.007812</td>\n",
       "      <td>3.421875</td>\n",
       "      <td>3.414062</td>\n",
       "      <td>0.166503</td>\n",
       "    </tr>\n",
       "    <tr>\n",
       "      <th>4</th>\n",
       "      <td>2229</td>\n",
       "      <td>0.205159</td>\n",
       "      <td>0.039543</td>\n",
       "      <td>0.210805</td>\n",
       "      <td>0.186667</td>\n",
       "      <td>0.228908</td>\n",
       "      <td>0.042241</td>\n",
       "      <td>2.099683</td>\n",
       "      <td>7.562209</td>\n",
       "      <td>0.876002</td>\n",
       "      <td>...</td>\n",
       "      <td>0.224885</td>\n",
       "      <td>0.205159</td>\n",
       "      <td>0.154736</td>\n",
       "      <td>0.047105</td>\n",
       "      <td>0.277457</td>\n",
       "      <td>1.578835</td>\n",
       "      <td>0.187500</td>\n",
       "      <td>10.804688</td>\n",
       "      <td>10.617188</td>\n",
       "      <td>0.113644</td>\n",
       "    </tr>\n",
       "  </tbody>\n",
       "</table>\n",
       "<p>5 rows × 21 columns</p>\n",
       "</div>"
      ],
      "text/plain": [
       "     Id  meanfreq        sd    median       Q25       Q75       IQR      skew  \\\n",
       "0  2148  0.186833  0.027472  0.184325  0.173955  0.204731  0.030777  2.655225   \n",
       "1  1124  0.188879  0.060316  0.195537  0.138072  0.242975  0.104904  1.497393   \n",
       "2   170  0.150705  0.087127  0.174299  0.069666  0.226082  0.156416  2.603951   \n",
       "3  3158  0.183667  0.040607  0.182534  0.156480  0.207646  0.051166  2.054138   \n",
       "4  2229  0.205159  0.039543  0.210805  0.186667  0.228908  0.042241  2.099683   \n",
       "\n",
       "        kurt    sp.ent  ...      mode  centroid   meanfun    minfun    maxfun  \\\n",
       "0  10.565846  0.821812  ...  0.180645  0.186833  0.172790  0.023495  0.271186   \n",
       "1   5.037085  0.909425  ...  0.140386  0.188879  0.133092  0.050847  0.272727   \n",
       "2  22.328899  0.969287  ...  0.050181  0.150705  0.109992  0.017260  0.266667   \n",
       "3   7.483019  0.898138  ...  0.177040  0.183667  0.149237  0.018648  0.262295   \n",
       "4   7.562209  0.876002  ...  0.224885  0.205159  0.154736  0.047105  0.277457   \n",
       "\n",
       "    meandom    mindom     maxdom    dfrange   modindx  \n",
       "0  0.178571  0.007812   0.226562   0.218750  0.108929  \n",
       "1  0.855938  0.023438   8.718750   8.695312  0.098712  \n",
       "2  1.240954  0.007812   5.562500   5.554688  0.332396  \n",
       "3  0.550312  0.007812   3.421875   3.414062  0.166503  \n",
       "4  1.578835  0.187500  10.804688  10.617188  0.113644  \n",
       "\n",
       "[5 rows x 21 columns]"
      ]
     },
     "execution_count": 11,
     "metadata": {},
     "output_type": "execute_result"
    }
   ],
   "source": [
    "test_data = pd.read_csv('voice_test.csv')\n",
    "print(test_data.shape)\n",
    "test_data.head()"
   ]
  },
  {
   "cell_type": "code",
   "execution_count": 8,
   "metadata": {},
   "outputs": [
    {
     "name": "stdout",
     "output_type": "stream",
     "text": [
      "<class 'pandas.core.frame.DataFrame'>\n",
      "RangeIndex: 2851 entries, 0 to 2850\n",
      "Data columns (total 22 columns):\n",
      " #   Column    Non-Null Count  Dtype  \n",
      "---  ------    --------------  -----  \n",
      " 0   Id        2851 non-null   int64  \n",
      " 1   meanfreq  2851 non-null   float64\n",
      " 2   sd        2851 non-null   float64\n",
      " 3   median    2851 non-null   float64\n",
      " 4   Q25       2851 non-null   float64\n",
      " 5   Q75       2851 non-null   float64\n",
      " 6   IQR       2851 non-null   float64\n",
      " 7   skew      2851 non-null   float64\n",
      " 8   kurt      2851 non-null   float64\n",
      " 9   sp.ent    2851 non-null   float64\n",
      " 10  sfm       2851 non-null   float64\n",
      " 11  mode      2851 non-null   float64\n",
      " 12  centroid  2851 non-null   float64\n",
      " 13  meanfun   2851 non-null   float64\n",
      " 14  minfun    2851 non-null   float64\n",
      " 15  maxfun    2851 non-null   float64\n",
      " 16  meandom   2851 non-null   float64\n",
      " 17  mindom    2851 non-null   float64\n",
      " 18  maxdom    2851 non-null   float64\n",
      " 19  dfrange   2851 non-null   float64\n",
      " 20  modindx   2851 non-null   float64\n",
      " 21  label     2851 non-null   object \n",
      "dtypes: float64(20), int64(1), object(1)\n",
      "memory usage: 490.1+ KB\n"
     ]
    }
   ],
   "source": [
    "train_data.info()"
   ]
  },
  {
   "cell_type": "code",
   "execution_count": 9,
   "metadata": {},
   "outputs": [
    {
     "data": {
      "text/html": [
       "<div>\n",
       "<style scoped>\n",
       "    .dataframe tbody tr th:only-of-type {\n",
       "        vertical-align: middle;\n",
       "    }\n",
       "\n",
       "    .dataframe tbody tr th {\n",
       "        vertical-align: top;\n",
       "    }\n",
       "\n",
       "    .dataframe thead th {\n",
       "        text-align: right;\n",
       "    }\n",
       "</style>\n",
       "<table border=\"1\" class=\"dataframe\">\n",
       "  <thead>\n",
       "    <tr style=\"text-align: right;\">\n",
       "      <th></th>\n",
       "      <th>Id</th>\n",
       "      <th>meanfreq</th>\n",
       "      <th>sd</th>\n",
       "      <th>median</th>\n",
       "      <th>Q25</th>\n",
       "      <th>Q75</th>\n",
       "      <th>IQR</th>\n",
       "      <th>skew</th>\n",
       "      <th>kurt</th>\n",
       "      <th>sp.ent</th>\n",
       "      <th>...</th>\n",
       "      <th>mode</th>\n",
       "      <th>centroid</th>\n",
       "      <th>meanfun</th>\n",
       "      <th>minfun</th>\n",
       "      <th>maxfun</th>\n",
       "      <th>meandom</th>\n",
       "      <th>mindom</th>\n",
       "      <th>maxdom</th>\n",
       "      <th>dfrange</th>\n",
       "      <th>modindx</th>\n",
       "    </tr>\n",
       "  </thead>\n",
       "  <tbody>\n",
       "    <tr>\n",
       "      <th>count</th>\n",
       "      <td>2851.000000</td>\n",
       "      <td>2851.000000</td>\n",
       "      <td>2851.000000</td>\n",
       "      <td>2851.000000</td>\n",
       "      <td>2851.000000</td>\n",
       "      <td>2851.000000</td>\n",
       "      <td>2851.000000</td>\n",
       "      <td>2851.000000</td>\n",
       "      <td>2851.000000</td>\n",
       "      <td>2851.000000</td>\n",
       "      <td>...</td>\n",
       "      <td>2851.000000</td>\n",
       "      <td>2851.000000</td>\n",
       "      <td>2851.000000</td>\n",
       "      <td>2851.000000</td>\n",
       "      <td>2851.000000</td>\n",
       "      <td>2851.000000</td>\n",
       "      <td>2851.000000</td>\n",
       "      <td>2851.000000</td>\n",
       "      <td>2851.000000</td>\n",
       "      <td>2851.000000</td>\n",
       "    </tr>\n",
       "    <tr>\n",
       "      <th>mean</th>\n",
       "      <td>1591.565416</td>\n",
       "      <td>0.180923</td>\n",
       "      <td>0.057143</td>\n",
       "      <td>0.185722</td>\n",
       "      <td>0.140349</td>\n",
       "      <td>0.224730</td>\n",
       "      <td>0.084381</td>\n",
       "      <td>3.118469</td>\n",
       "      <td>35.808329</td>\n",
       "      <td>0.895312</td>\n",
       "      <td>...</td>\n",
       "      <td>0.165481</td>\n",
       "      <td>0.180923</td>\n",
       "      <td>0.142891</td>\n",
       "      <td>0.036834</td>\n",
       "      <td>0.258968</td>\n",
       "      <td>0.833608</td>\n",
       "      <td>0.052634</td>\n",
       "      <td>5.075745</td>\n",
       "      <td>5.023111</td>\n",
       "      <td>0.173933</td>\n",
       "    </tr>\n",
       "    <tr>\n",
       "      <th>std</th>\n",
       "      <td>909.939169</td>\n",
       "      <td>0.029796</td>\n",
       "      <td>0.016588</td>\n",
       "      <td>0.036175</td>\n",
       "      <td>0.048628</td>\n",
       "      <td>0.023509</td>\n",
       "      <td>0.042728</td>\n",
       "      <td>4.163727</td>\n",
       "      <td>131.430900</td>\n",
       "      <td>0.044795</td>\n",
       "      <td>...</td>\n",
       "      <td>0.076918</td>\n",
       "      <td>0.029796</td>\n",
       "      <td>0.032191</td>\n",
       "      <td>0.019182</td>\n",
       "      <td>0.029806</td>\n",
       "      <td>0.525565</td>\n",
       "      <td>0.062982</td>\n",
       "      <td>3.526201</td>\n",
       "      <td>3.525193</td>\n",
       "      <td>0.119463</td>\n",
       "    </tr>\n",
       "    <tr>\n",
       "      <th>min</th>\n",
       "      <td>1.000000</td>\n",
       "      <td>0.039363</td>\n",
       "      <td>0.018363</td>\n",
       "      <td>0.010975</td>\n",
       "      <td>0.000229</td>\n",
       "      <td>0.042946</td>\n",
       "      <td>0.014558</td>\n",
       "      <td>0.141735</td>\n",
       "      <td>2.068455</td>\n",
       "      <td>0.738651</td>\n",
       "      <td>...</td>\n",
       "      <td>0.000000</td>\n",
       "      <td>0.039363</td>\n",
       "      <td>0.055565</td>\n",
       "      <td>0.009775</td>\n",
       "      <td>0.108696</td>\n",
       "      <td>0.007812</td>\n",
       "      <td>0.004883</td>\n",
       "      <td>0.007812</td>\n",
       "      <td>0.000000</td>\n",
       "      <td>0.000000</td>\n",
       "    </tr>\n",
       "    <tr>\n",
       "      <th>25%</th>\n",
       "      <td>808.500000</td>\n",
       "      <td>0.163739</td>\n",
       "      <td>0.042082</td>\n",
       "      <td>0.169726</td>\n",
       "      <td>0.111139</td>\n",
       "      <td>0.208756</td>\n",
       "      <td>0.042663</td>\n",
       "      <td>1.638410</td>\n",
       "      <td>5.604497</td>\n",
       "      <td>0.862190</td>\n",
       "      <td>...</td>\n",
       "      <td>0.118100</td>\n",
       "      <td>0.163739</td>\n",
       "      <td>0.117578</td>\n",
       "      <td>0.018223</td>\n",
       "      <td>0.253968</td>\n",
       "      <td>0.423799</td>\n",
       "      <td>0.007812</td>\n",
       "      <td>2.207031</td>\n",
       "      <td>2.183594</td>\n",
       "      <td>0.099591</td>\n",
       "    </tr>\n",
       "    <tr>\n",
       "      <th>50%</th>\n",
       "      <td>1590.000000</td>\n",
       "      <td>0.184848</td>\n",
       "      <td>0.059151</td>\n",
       "      <td>0.190067</td>\n",
       "      <td>0.140229</td>\n",
       "      <td>0.225729</td>\n",
       "      <td>0.094235</td>\n",
       "      <td>2.183320</td>\n",
       "      <td>8.255809</td>\n",
       "      <td>0.901840</td>\n",
       "      <td>...</td>\n",
       "      <td>0.186667</td>\n",
       "      <td>0.184848</td>\n",
       "      <td>0.140678</td>\n",
       "      <td>0.046921</td>\n",
       "      <td>0.271186</td>\n",
       "      <td>0.767578</td>\n",
       "      <td>0.023438</td>\n",
       "      <td>4.992188</td>\n",
       "      <td>4.968750</td>\n",
       "      <td>0.139159</td>\n",
       "    </tr>\n",
       "    <tr>\n",
       "      <th>75%</th>\n",
       "      <td>2382.500000</td>\n",
       "      <td>0.199061</td>\n",
       "      <td>0.066891</td>\n",
       "      <td>0.210650</td>\n",
       "      <td>0.175690</td>\n",
       "      <td>0.243700</td>\n",
       "      <td>0.114208</td>\n",
       "      <td>2.932962</td>\n",
       "      <td>13.649354</td>\n",
       "      <td>0.928727</td>\n",
       "      <td>...</td>\n",
       "      <td>0.221341</td>\n",
       "      <td>0.199061</td>\n",
       "      <td>0.169593</td>\n",
       "      <td>0.047904</td>\n",
       "      <td>0.277457</td>\n",
       "      <td>1.180411</td>\n",
       "      <td>0.070312</td>\n",
       "      <td>7.078125</td>\n",
       "      <td>7.042969</td>\n",
       "      <td>0.209525</td>\n",
       "    </tr>\n",
       "    <tr>\n",
       "      <th>max</th>\n",
       "      <td>3167.000000</td>\n",
       "      <td>0.251124</td>\n",
       "      <td>0.115273</td>\n",
       "      <td>0.261224</td>\n",
       "      <td>0.247347</td>\n",
       "      <td>0.273469</td>\n",
       "      <td>0.252225</td>\n",
       "      <td>34.725453</td>\n",
       "      <td>1309.612887</td>\n",
       "      <td>0.981997</td>\n",
       "      <td>...</td>\n",
       "      <td>0.280000</td>\n",
       "      <td>0.251124</td>\n",
       "      <td>0.237636</td>\n",
       "      <td>0.204082</td>\n",
       "      <td>0.279114</td>\n",
       "      <td>2.957682</td>\n",
       "      <td>0.458984</td>\n",
       "      <td>21.867188</td>\n",
       "      <td>21.843750</td>\n",
       "      <td>0.932374</td>\n",
       "    </tr>\n",
       "  </tbody>\n",
       "</table>\n",
       "<p>8 rows × 21 columns</p>\n",
       "</div>"
      ],
      "text/plain": [
       "                Id     meanfreq           sd       median          Q25  \\\n",
       "count  2851.000000  2851.000000  2851.000000  2851.000000  2851.000000   \n",
       "mean   1591.565416     0.180923     0.057143     0.185722     0.140349   \n",
       "std     909.939169     0.029796     0.016588     0.036175     0.048628   \n",
       "min       1.000000     0.039363     0.018363     0.010975     0.000229   \n",
       "25%     808.500000     0.163739     0.042082     0.169726     0.111139   \n",
       "50%    1590.000000     0.184848     0.059151     0.190067     0.140229   \n",
       "75%    2382.500000     0.199061     0.066891     0.210650     0.175690   \n",
       "max    3167.000000     0.251124     0.115273     0.261224     0.247347   \n",
       "\n",
       "               Q75          IQR         skew         kurt       sp.ent  ...  \\\n",
       "count  2851.000000  2851.000000  2851.000000  2851.000000  2851.000000  ...   \n",
       "mean      0.224730     0.084381     3.118469    35.808329     0.895312  ...   \n",
       "std       0.023509     0.042728     4.163727   131.430900     0.044795  ...   \n",
       "min       0.042946     0.014558     0.141735     2.068455     0.738651  ...   \n",
       "25%       0.208756     0.042663     1.638410     5.604497     0.862190  ...   \n",
       "50%       0.225729     0.094235     2.183320     8.255809     0.901840  ...   \n",
       "75%       0.243700     0.114208     2.932962    13.649354     0.928727  ...   \n",
       "max       0.273469     0.252225    34.725453  1309.612887     0.981997  ...   \n",
       "\n",
       "              mode     centroid      meanfun       minfun       maxfun  \\\n",
       "count  2851.000000  2851.000000  2851.000000  2851.000000  2851.000000   \n",
       "mean      0.165481     0.180923     0.142891     0.036834     0.258968   \n",
       "std       0.076918     0.029796     0.032191     0.019182     0.029806   \n",
       "min       0.000000     0.039363     0.055565     0.009775     0.108696   \n",
       "25%       0.118100     0.163739     0.117578     0.018223     0.253968   \n",
       "50%       0.186667     0.184848     0.140678     0.046921     0.271186   \n",
       "75%       0.221341     0.199061     0.169593     0.047904     0.277457   \n",
       "max       0.280000     0.251124     0.237636     0.204082     0.279114   \n",
       "\n",
       "           meandom       mindom       maxdom      dfrange      modindx  \n",
       "count  2851.000000  2851.000000  2851.000000  2851.000000  2851.000000  \n",
       "mean      0.833608     0.052634     5.075745     5.023111     0.173933  \n",
       "std       0.525565     0.062982     3.526201     3.525193     0.119463  \n",
       "min       0.007812     0.004883     0.007812     0.000000     0.000000  \n",
       "25%       0.423799     0.007812     2.207031     2.183594     0.099591  \n",
       "50%       0.767578     0.023438     4.992188     4.968750     0.139159  \n",
       "75%       1.180411     0.070312     7.078125     7.042969     0.209525  \n",
       "max       2.957682     0.458984    21.867188    21.843750     0.932374  \n",
       "\n",
       "[8 rows x 21 columns]"
      ]
     },
     "execution_count": 9,
     "metadata": {},
     "output_type": "execute_result"
    }
   ],
   "source": [
    "train_data.describe()"
   ]
  },
  {
   "cell_type": "code",
   "execution_count": 12,
   "metadata": {},
   "outputs": [
    {
     "data": {
      "application/vnd.jupyter.widget-view+json": {
       "model_id": "0fdc220550d740259d1b514265c81531",
       "version_major": 2,
       "version_minor": 0
      },
      "text/plain": [
       "HBox(children=(HTML(value='Summarize dataset'), FloatProgress(value=0.0, max=35.0), HTML(value='')))"
      ]
     },
     "metadata": {},
     "output_type": "display_data"
    },
    {
     "name": "stdout",
     "output_type": "stream",
     "text": [
      "\n"
     ]
    },
    {
     "data": {
      "application/vnd.jupyter.widget-view+json": {
       "model_id": "d1aabdd64d4f4af2b6fe7c0c3c031625",
       "version_major": 2,
       "version_minor": 0
      },
      "text/plain": [
       "HBox(children=(HTML(value='Generate report structure'), FloatProgress(value=0.0, max=1.0), HTML(value='')))"
      ]
     },
     "metadata": {},
     "output_type": "display_data"
    },
    {
     "name": "stdout",
     "output_type": "stream",
     "text": [
      "\n"
     ]
    },
    {
     "data": {
      "application/vnd.jupyter.widget-view+json": {
       "model_id": "6878826c808e4b5f97546f55b3e1e4da",
       "version_major": 2,
       "version_minor": 0
      },
      "text/plain": [
       "HBox(children=(HTML(value='Render HTML'), FloatProgress(value=0.0, max=1.0), HTML(value='')))"
      ]
     },
     "metadata": {},
     "output_type": "display_data"
    },
    {
     "name": "stdout",
     "output_type": "stream",
     "text": [
      "\n"
     ]
    },
    {
     "data": {
      "application/vnd.jupyter.widget-view+json": {
       "model_id": "0d5e92fa8e93483ba0aaadcfe300a137",
       "version_major": 2,
       "version_minor": 0
      },
      "text/plain": [
       "HBox(children=(HTML(value='Export report to file'), FloatProgress(value=0.0, max=1.0), HTML(value='')))"
      ]
     },
     "metadata": {},
     "output_type": "display_data"
    },
    {
     "name": "stdout",
     "output_type": "stream",
     "text": [
      "\n"
     ]
    }
   ],
   "source": [
    "#Data Profiling\n",
    "#PR = train_data.profile_report(title='PR')\n",
    "#PR.to_file('PR.html')"
   ]
  },
  {
   "cell_type": "markdown",
   "metadata": {},
   "source": [
    "# Data Set Information\n",
    "\n",
    "### Dataset statistics\n",
    "\n",
    "- Number of variables\t22\n",
    "- Number of observations\t2851\n",
    "- Missing cells\t0\n",
    "\n",
    "#### Variable types\n",
    "\n",
    "- Numeric\t21\n",
    "- Categorical\t1\n",
    "\n",
    "##### Feature Information\n",
    "\n",
    "- ID - Unique Id of each Data\n",
    "- mean-freq - Normally Distributed Data . Mean - 0.18 \n",
    "- sd - Mean - 0.57\n",
    "- median - Mean - 0.18\n",
    "- Q1 - Mean - 0.14\n",
    "- Q3 - Mean - 0.22\n",
    "- IQR - Mean - 0.084\n",
    "- skew - Mean - 3.11\n",
    "- kurt - Mean - 35.8\n",
    "- sp.ent - Mean - 0.89\n",
    "- sfm -  Mean - 0.40\n",
    "- mode - Mean - 0.16\n",
    "- centroid - Mean - 0.18\n",
    "- meanfunc - Mean - 0.14\n",
    "- MinFunc - Mean - 0.03\n",
    "- meandom- Mean - 0.833\n",
    "- mindom - Mean - 0.052\n",
    "- maxdom - Mean - 5.07\n",
    "- dfrange - Mean - 5.02\n",
    "- modindx - Mean - 0.17\n",
    "- <b> label  - Target Variable </b> - Female - 1432, Male - 1419"
   ]
  },
  {
   "cell_type": "code",
   "execution_count": 19,
   "metadata": {},
   "outputs": [],
   "source": [
    "# DataPre Processing\n",
    "#Encoding the Label to 1- Male, 0-Female\n",
    "\n",
    "train_data['label'] = train_data['label'].apply(lambda x :1 if x=='male' else 0 )"
   ]
  },
  {
   "cell_type": "markdown",
   "metadata": {},
   "source": [
    "# Exploratory Data Analysis"
   ]
  },
  {
   "cell_type": "code",
   "execution_count": null,
   "metadata": {},
   "outputs": [],
   "source": [
    "#Coorelation with Target Variable"
   ]
  },
  {
   "cell_type": "code",
   "execution_count": 29,
   "metadata": {},
   "outputs": [
    {
     "data": {
      "text/plain": [
       "<AxesSubplot:>"
      ]
     },
     "execution_count": 29,
     "metadata": {},
     "output_type": "execute_result"
    },
    {
     "data": {
      "image/png": "[encoded data removed]",
      "text/plain": [
       "<Figure size 720x360 with 1 Axes>"
      ]
     },
     "metadata": {
      "needs_background": "light"
     },
     "output_type": "display_data"
    }
   ],
   "source": [
    "plt.figure(figsize=(10,5))\n",
    "train_data.drop('Id',axis=1).corr()['label'].plot(kind='bar')"
   ]
  },
  {
   "cell_type": "markdown",
   "metadata": {},
   "source": [
    "### Insights -  1) Label has highest negative coorealtion with meanfunc, followed Q25 2) Highest postive coorealtion with IQR and sd, sp.ent\n"
   ]
  },
  {
   "cell_type": "code",
   "execution_count": 33,
   "metadata": {},
   "outputs": [
    {
     "data": {
      "text/plain": [
       "Index(['Id', 'meanfreq', 'sd', 'median', 'Q25', 'Q75', 'IQR', 'skew', 'kurt',\n",
       "       'sp.ent', 'sfm', 'mode', 'centroid', 'meanfun', 'minfun', 'maxfun',\n",
       "       'meandom', 'mindom', 'maxdom', 'dfrange', 'modindx', 'label'],\n",
       "      dtype='object')"
      ]
     },
     "execution_count": 33,
     "metadata": {},
     "output_type": "execute_result"
    }
   ],
   "source": [
    "train_data.columns"
   ]
  },
  {
   "cell_type": "code",
   "execution_count": 44,
   "metadata": {},
   "outputs": [
    {
     "data": {
      "text/plain": [
       "<AxesSubplot:xlabel='label', ylabel='modindx'>"
      ]
     },
     "execution_count": 44,
     "metadata": {},
     "output_type": "execute_result"
    },
    {
     "data": {
      "image/png": "[encoded data removed]",
      "text/plain": [
       "<Figure size 1800x576 with 20 Axes>"
      ]
     },
     "metadata": {
      "needs_background": "light"
     },
     "output_type": "display_data"
    }
   ],
   "source": [
    "f,axes = plt.subplots(4,5,figsize=(25,8))\n",
    "sns.boxplot(data=train_data,x='label',y='meanfreq', ax=axes[0,0])\n",
    "sns.boxplot(data=train_data,x='label',y='meanfun', ax=axes[0,1])\n",
    "sns.boxplot(data=train_data,x='label',y='sd', ax=axes[0,2])\n",
    "sns.boxplot(data=train_data,x='label',y='median', ax=axes[0,3])\n",
    "sns.boxplot(data=train_data,x='label',y='Q25', ax=axes[0,4])\n",
    "sns.boxplot(data=train_data,x='label',y='Q75', ax=axes[1,0])\n",
    "sns.boxplot(data=train_data,x='label',y='IQR', ax=axes[1,1])\n",
    "sns.boxplot(data=train_data,x='label',y='skew', ax=axes[1,2])\n",
    "sns.boxplot(data=train_data,x='label',y='kurt', ax=axes[1,3])\n",
    "sns.boxplot(data=train_data,x='label',y='sp.ent', ax=axes[1,4])\n",
    "sns.boxplot(data=train_data,x='label',y='sfm', ax=axes[2,0])\n",
    "sns.boxplot(data=train_data,x='label',y='mode', ax=axes[2,1])\n",
    "sns.boxplot(data=train_data,x='label',y='centroid', ax=axes[2,2])\n",
    "sns.boxplot(data=train_data,x='label',y='minfun', ax=axes[2,3])\n",
    "sns.boxplot(data=train_data,x='label',y='maxfun', ax=axes[2,4])\n",
    "sns.boxplot(data=train_data,x='label',y='meandom', ax=axes[3,0])\n",
    "sns.boxplot(data=train_data,x='label',y='mindom', ax=axes[3,1])\n",
    "sns.boxplot(data=train_data,x='label',y='maxdom', ax=axes[3,2])\n",
    "sns.boxplot(data=train_data,x='label',y='dfrange', ax=axes[3,3])\n",
    "sns.boxplot(data=train_data,x='label',y='modindx', ax=axes[3,4])\n"
   ]
  },
  {
   "cell_type": "markdown",
   "metadata": {},
   "source": [
    "####  Insights - 1) MeanFreq - Male is comparatively higher than Female 2) MeanFunc - Women is again comparatively very lower 3) SD- Higher in women and normally distributed 4) median - almost the same for both male and female 5) Q25 - Higher in Men 6) Q75 - Almost the same 7) IQR - Lower in Male and has outliers 8) sp.ent - Higher in women and normally distributed 9)sfm - Higher in Women and normally distributed 10) mode - Males are almost normally distributed compared to women 11) centroid -  Male is higher compared to women"
   ]
  },
  {
   "cell_type": "markdown",
   "metadata": {},
   "source": [
    "# Data preprocessing for Developing Models"
   ]
  },
  {
   "cell_type": "code",
   "execution_count": 95,
   "metadata": {},
   "outputs": [],
   "source": [
    "# Splitting data in to X and y\n",
    "X=train_data.drop(['Id','label'],axis=1)\n",
    "y=train_data['label']"
   ]
  },
  {
   "cell_type": "code",
   "execution_count": 96,
   "metadata": {},
   "outputs": [
    {
     "name": "stdout",
     "output_type": "stream",
     "text": [
      "(2280, 20) (2280,) (571, 20) (571,)\n"
     ]
    }
   ],
   "source": [
    "#Train Test Split\n",
    "X_train,X_test,y_train,y_test = train_test_split(X,y,random_state=42,test_size=0.2,stratify=y)\n",
    "print(X_train.shape,y_train.shape,X_test.shape,y_test.shape)"
   ]
  },
  {
   "cell_type": "code",
   "execution_count": 97,
   "metadata": {},
   "outputs": [
    {
     "data": {
      "text/html": [
       "<div>\n",
       "<style scoped>\n",
       "    .dataframe tbody tr th:only-of-type {\n",
       "        vertical-align: middle;\n",
       "    }\n",
       "\n",
       "    .dataframe tbody tr th {\n",
       "        vertical-align: top;\n",
       "    }\n",
       "\n",
       "    .dataframe thead th {\n",
       "        text-align: right;\n",
       "    }\n",
       "</style>\n",
       "<table border=\"1\" class=\"dataframe\">\n",
       "  <thead>\n",
       "    <tr style=\"text-align: right;\">\n",
       "      <th></th>\n",
       "      <th>meanfreq</th>\n",
       "      <th>sd</th>\n",
       "      <th>median</th>\n",
       "      <th>Q25</th>\n",
       "      <th>Q75</th>\n",
       "      <th>IQR</th>\n",
       "      <th>skew</th>\n",
       "      <th>kurt</th>\n",
       "      <th>sp.ent</th>\n",
       "      <th>sfm</th>\n",
       "      <th>mode</th>\n",
       "      <th>centroid</th>\n",
       "      <th>meanfun</th>\n",
       "      <th>minfun</th>\n",
       "      <th>maxfun</th>\n",
       "      <th>meandom</th>\n",
       "      <th>mindom</th>\n",
       "      <th>maxdom</th>\n",
       "      <th>dfrange</th>\n",
       "      <th>modindx</th>\n",
       "    </tr>\n",
       "  </thead>\n",
       "  <tbody>\n",
       "    <tr>\n",
       "      <th>2613</th>\n",
       "      <td>-0.023643</td>\n",
       "      <td>-0.500617</td>\n",
       "      <td>-0.350803</td>\n",
       "      <td>0.269867</td>\n",
       "      <td>-0.178311</td>\n",
       "      <td>-0.451726</td>\n",
       "      <td>0.104665</td>\n",
       "      <td>0.081184</td>\n",
       "      <td>-0.274040</td>\n",
       "      <td>-0.139948</td>\n",
       "      <td>-0.282473</td>\n",
       "      <td>-0.023643</td>\n",
       "      <td>0.248730</td>\n",
       "      <td>0.086777</td>\n",
       "      <td>0.180919</td>\n",
       "      <td>0.729410</td>\n",
       "      <td>0.0</td>\n",
       "      <td>0.399381</td>\n",
       "      <td>0.395743</td>\n",
       "      <td>0.156759</td>\n",
       "    </tr>\n",
       "    <tr>\n",
       "      <th>2389</th>\n",
       "      <td>0.170464</td>\n",
       "      <td>-0.097565</td>\n",
       "      <td>0.314884</td>\n",
       "      <td>-0.119174</td>\n",
       "      <td>0.276730</td>\n",
       "      <td>0.108485</td>\n",
       "      <td>-0.692342</td>\n",
       "      <td>-0.493617</td>\n",
       "      <td>0.131543</td>\n",
       "      <td>-0.232674</td>\n",
       "      <td>0.109000</td>\n",
       "      <td>0.170464</td>\n",
       "      <td>-0.528552</td>\n",
       "      <td>0.080253</td>\n",
       "      <td>-0.288204</td>\n",
       "      <td>-0.453247</td>\n",
       "      <td>0.0</td>\n",
       "      <td>-0.636223</td>\n",
       "      <td>-0.630429</td>\n",
       "      <td>-0.548021</td>\n",
       "    </tr>\n",
       "    <tr>\n",
       "      <th>2399</th>\n",
       "      <td>-1.688436</td>\n",
       "      <td>0.701949</td>\n",
       "      <td>-1.895792</td>\n",
       "      <td>-1.184604</td>\n",
       "      <td>-1.327320</td>\n",
       "      <td>0.302144</td>\n",
       "      <td>1.284815</td>\n",
       "      <td>3.876222</td>\n",
       "      <td>0.908680</td>\n",
       "      <td>1.242793</td>\n",
       "      <td>-1.253906</td>\n",
       "      <td>-1.688436</td>\n",
       "      <td>-0.981066</td>\n",
       "      <td>-1.001949</td>\n",
       "      <td>-0.058943</td>\n",
       "      <td>0.211605</td>\n",
       "      <td>-0.2</td>\n",
       "      <td>-0.034056</td>\n",
       "      <td>-0.030678</td>\n",
       "      <td>1.088303</td>\n",
       "    </tr>\n",
       "    <tr>\n",
       "      <th>1057</th>\n",
       "      <td>0.255800</td>\n",
       "      <td>-0.694704</td>\n",
       "      <td>0.105111</td>\n",
       "      <td>0.606137</td>\n",
       "      <td>-0.158747</td>\n",
       "      <td>-0.741760</td>\n",
       "      <td>-0.046152</td>\n",
       "      <td>-0.067734</td>\n",
       "      <td>-0.409489</td>\n",
       "      <td>-0.287992</td>\n",
       "      <td>0.023788</td>\n",
       "      <td>0.255800</td>\n",
       "      <td>0.670510</td>\n",
       "      <td>0.245032</td>\n",
       "      <td>-0.174855</td>\n",
       "      <td>0.420113</td>\n",
       "      <td>2.1</td>\n",
       "      <td>0.078947</td>\n",
       "      <td>0.046017</td>\n",
       "      <td>-0.202197</td>\n",
       "    </tr>\n",
       "    <tr>\n",
       "      <th>1923</th>\n",
       "      <td>0.084857</td>\n",
       "      <td>-0.636250</td>\n",
       "      <td>-0.262425</td>\n",
       "      <td>0.400605</td>\n",
       "      <td>-0.652778</td>\n",
       "      <td>-0.791221</td>\n",
       "      <td>0.231699</td>\n",
       "      <td>0.128908</td>\n",
       "      <td>-0.485874</td>\n",
       "      <td>-0.483910</td>\n",
       "      <td>0.012162</td>\n",
       "      <td>0.084857</td>\n",
       "      <td>0.492641</td>\n",
       "      <td>0.039099</td>\n",
       "      <td>0.119919</td>\n",
       "      <td>0.630915</td>\n",
       "      <td>0.0</td>\n",
       "      <td>0.520124</td>\n",
       "      <td>0.515387</td>\n",
       "      <td>-0.539479</td>\n",
       "    </tr>\n",
       "  </tbody>\n",
       "</table>\n",
       "</div>"
      ],
      "text/plain": [
       "      meanfreq        sd    median       Q25       Q75       IQR      skew  \\\n",
       "2613 -0.023643 -0.500617 -0.350803  0.269867 -0.178311 -0.451726  0.104665   \n",
       "2389  0.170464 -0.097565  0.314884 -0.119174  0.276730  0.108485 -0.692342   \n",
       "2399 -1.688436  0.701949 -1.895792 -1.184604 -1.327320  0.302144  1.284815   \n",
       "1057  0.255800 -0.694704  0.105111  0.606137 -0.158747 -0.741760 -0.046152   \n",
       "1923  0.084857 -0.636250 -0.262425  0.400605 -0.652778 -0.791221  0.231699   \n",
       "\n",
       "          kurt    sp.ent       sfm      mode  centroid   meanfun    minfun  \\\n",
       "2613  0.081184 -0.274040 -0.139948 -0.282473 -0.023643  0.248730  0.086777   \n",
       "2389 -0.493617  0.131543 -0.232674  0.109000  0.170464 -0.528552  0.080253   \n",
       "2399  3.876222  0.908680  1.242793 -1.253906 -1.688436 -0.981066 -1.001949   \n",
       "1057 -0.067734 -0.409489 -0.287992  0.023788  0.255800  0.670510  0.245032   \n",
       "1923  0.128908 -0.485874 -0.483910  0.012162  0.084857  0.492641  0.039099   \n",
       "\n",
       "        maxfun   meandom  mindom    maxdom   dfrange   modindx  \n",
       "2613  0.180919  0.729410     0.0  0.399381  0.395743  0.156759  \n",
       "2389 -0.288204 -0.453247     0.0 -0.636223 -0.630429 -0.548021  \n",
       "2399 -0.058943  0.211605    -0.2 -0.034056 -0.030678  1.088303  \n",
       "1057 -0.174855  0.420113     2.1  0.078947  0.046017 -0.202197  \n",
       "1923  0.119919  0.630915     0.0  0.520124  0.515387 -0.539479  "
      ]
     },
     "execution_count": 97,
     "metadata": {},
     "output_type": "execute_result"
    }
   ],
   "source": [
    "# Scaling the Data\n",
    "'''SS= StandardScaler()\n",
    "X_train[X_train.columns]= SS.fit_transform(X_train)\n",
    "X_test[X_test.columns]= SS.fit_transform(X_test)\n",
    "X_test.head()'''\n",
    "SS= RobustScaler()\n",
    "X_train[X_train.columns]= SS.fit_transform(X_train)\n",
    "X_test[X_test.columns]= SS.fit_transform(X_test)\n",
    "X_test.head()"
   ]
  },
  {
   "cell_type": "code",
   "execution_count": 98,
   "metadata": {},
   "outputs": [
    {
     "name": "stdout",
     "output_type": "stream",
     "text": [
      "['sd', 'Q25', 'IQR', 'meanfun']\n",
      "0.05\n"
     ]
    }
   ],
   "source": [
    "selector = SelectFromModel(RandomForestClassifier(n_estimators=100,random_state=42,n_jobs=-1))\n",
    "selector.fit(X_train,y_train)\n",
    "selector_feat=X_train.columns[selector.get_support()].to_list()\n",
    "print(selector_feat)\n",
    "print(np.round(selector.threshold_,decimals=2))"
   ]
  },
  {
   "cell_type": "code",
   "execution_count": 99,
   "metadata": {},
   "outputs": [
    {
     "name": "stdout",
     "output_type": "stream",
     "text": [
      "(2280, 4) (571, 4)\n"
     ]
    }
   ],
   "source": [
    "X_train1 = X_train[selector_feat]\n",
    "X_test1 = X_test[selector_feat]\n",
    "print(X_train1.shape,X_test1.shape)"
   ]
  },
  {
   "cell_type": "markdown",
   "metadata": {},
   "source": [
    "## 1 - Logistic Regression"
   ]
  },
  {
   "cell_type": "code",
   "execution_count": 100,
   "metadata": {},
   "outputs": [
    {
     "name": "stdout",
     "output_type": "stream",
     "text": [
      "0.9728070175438597\n",
      "0.9754816112084063\n",
      "0.9727831431079894\n",
      "0.975609756097561\n"
     ]
    }
   ],
   "source": [
    "LogReg = LogisticRegression()\n",
    "LogReg.fit(X_train,y_train)\n",
    "pred_values_train = LogReg.predict(X_train)\n",
    "pred_values_test = LogReg.predict(X_test)\n",
    "print(accuracy_score(y_train,pred_values_train))\n",
    "print(accuracy_score(y_test,pred_values_test))\n",
    "print(f1_score(y_train,pred_values_train))\n",
    "print(f1_score(y_test,pred_values_test))\n",
    "#print(classification_report(y_train,pred_values_train))\n",
    "#print(classification_report(y_test,pred_values_test))"
   ]
  },
  {
   "cell_type": "markdown",
   "metadata": {},
   "source": [
    "## 2 - DecisionTree Classifier"
   ]
  },
  {
   "cell_type": "code",
   "execution_count": 101,
   "metadata": {},
   "outputs": [
    {
     "name": "stdout",
     "output_type": "stream",
     "text": [
      "1.0\n",
      "0.957968476357268\n",
      "1.0\n",
      "0.9578947368421052\n"
     ]
    }
   ],
   "source": [
    "DT = DecisionTreeClassifier()\n",
    "DT.fit(X_train,y_train)\n",
    "pred_values_train = DT.predict(X_train)\n",
    "pred_values_test = DT.predict(X_test)\n",
    "print(accuracy_score(y_train,pred_values_train))\n",
    "print(accuracy_score(y_test,pred_values_test))\n",
    "print(f1_score(y_train,pred_values_train))\n",
    "print(f1_score(y_test,pred_values_test))\n",
    "#print(classification_report(y_train,pred_values_train))\n",
    "#print(classification_report(y_test,pred_values_test))"
   ]
  },
  {
   "cell_type": "markdown",
   "metadata": {},
   "source": [
    "## 3 - Random Forest Classifier"
   ]
  },
  {
   "cell_type": "code",
   "execution_count": 102,
   "metadata": {},
   "outputs": [
    {
     "name": "stdout",
     "output_type": "stream",
     "text": [
      "1.0\n",
      "0.9772329246935202\n",
      "1.0\n",
      "0.9769911504424779\n"
     ]
    }
   ],
   "source": [
    "RF = RandomForestClassifier()\n",
    "RF.fit(X_train,y_train)\n",
    "pred_values_train = RF.predict(X_train)\n",
    "pred_values_test = RF.predict(X_test)\n",
    "print(accuracy_score(y_train,pred_values_train))\n",
    "print(accuracy_score(y_test,pred_values_test))\n",
    "print(f1_score(y_train,pred_values_train))\n",
    "print(f1_score(y_test,pred_values_test))\n",
    "#print(classification_report(y_train,pred_values_train))\n",
    "#print(classification_report(y_test,pred_values_test))"
   ]
  },
  {
   "cell_type": "markdown",
   "metadata": {},
   "source": [
    "## 4 - Naive Bayes Classifier"
   ]
  },
  {
   "cell_type": "code",
   "execution_count": 103,
   "metadata": {},
   "outputs": [
    {
     "name": "stdout",
     "output_type": "stream",
     "text": [
      "0.8982456140350877\n",
      "0.8931698774080561\n",
      "0.8983347940403156\n",
      "0.8935427574171031\n"
     ]
    }
   ],
   "source": [
    "NB = GaussianNB()\n",
    "NB.fit(X_train,y_train)\n",
    "pred_values_train = NB.predict(X_train)\n",
    "pred_values_test = NB.predict(X_test)\n",
    "print(accuracy_score(y_train,pred_values_train))\n",
    "print(accuracy_score(y_test,pred_values_test))\n",
    "print(f1_score(y_train,pred_values_train))\n",
    "print(f1_score(y_test,pred_values_test))\n",
    "#print(classification_report(y_train,pred_values_train))\n",
    "#print(classification_report(y_test,pred_values_test))"
   ]
  },
  {
   "cell_type": "markdown",
   "metadata": {},
   "source": [
    "# Building the Test Data"
   ]
  },
  {
   "cell_type": "code",
   "execution_count": 104,
   "metadata": {},
   "outputs": [],
   "source": [
    "test_data1 = test_data.copy()"
   ]
  },
  {
   "cell_type": "code",
   "execution_count": 105,
   "metadata": {},
   "outputs": [],
   "source": [
    "test_data1.drop(['Id'],axis=1,inplace=True)"
   ]
  },
  {
   "cell_type": "code",
   "execution_count": 106,
   "metadata": {},
   "outputs": [],
   "source": [
    "test_data1[test_data1.columns] = SS.transform(test_data1)"
   ]
  },
  {
   "cell_type": "code",
   "execution_count": 107,
   "metadata": {},
   "outputs": [],
   "source": [
    "pred_values_test1 = RF.predict(test_data1)"
   ]
  },
  {
   "cell_type": "code",
   "execution_count": 111,
   "metadata": {},
   "outputs": [],
   "source": [
    "FinalOp = pd.DataFrame(test_data['Id'])"
   ]
  },
  {
   "cell_type": "code",
   "execution_count": 112,
   "metadata": {},
   "outputs": [],
   "source": [
    "FinalOp['label'] = pred_values_test1"
   ]
  },
  {
   "cell_type": "code",
   "execution_count": 114,
   "metadata": {},
   "outputs": [],
   "source": [
    "FinalOp.to_csv('submission.csv',index=False,header=False)"
   ]
  },
  {
   "cell_type": "code",
   "execution_count": null,
   "metadata": {},
   "outputs": [],
   "source": []
  }
 ],
 "metadata": {
  "kernelspec": {
   "display_name": "Python 3",
   "language": "python",
   "name": "python3"
  },
  "language_info": {
   "codemirror_mode": {
    "name": "ipython",
    "version": 3
   },
   "file_extension": ".py",
   "mimetype": "text/x-python",
   "name": "python",
   "nbconvert_exporter": "python",
   "pygments_lexer": "ipython3",
   "version": "3.8.5"
  }
 },
 "nbformat": 4,
 "nbformat_minor": 4
}
